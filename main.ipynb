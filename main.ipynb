{
 "cells": [
  {
   "cell_type": "code",
   "execution_count": 1,
   "metadata": {},
   "outputs": [],
   "source": [
    "import requests\n",
    "from rich import print as rprint\n",
    "import json\n",
    "\n",
    "api_key=\"ed7021746c2ce248fc615dadd14830f49dee9510\""
   ]
  },
  {
   "cell_type": "code",
   "execution_count": null,
   "metadata": {},
   "outputs": [],
   "source": [
    "file_id=\"QuSNdn\"\n",
    "\n",
    "requests.post(\n",
    "  'https://platform.rescale.com/api/v2/jobs/',\n",
    "  data={\n",
    "    'name': 'Basic Job',\n",
    "    'jobanalyses': [\n",
    "      {\n",
    "        'useMpi': false,\n",
    "        'command': './airFoil2D/Allrun',\n",
    "        'analysis': {\n",
    "          'code': 'openfoam',\n",
    "          'version': '2.3.0-openmpi'\n",
    "        },\n",
    "        'hardware': {\n",
    "          'coresPerSlot': 1,\n",
    "          'slots': 1,\n",
    "          'coreType': 'standard-plus'\n",
    "        },\n",
    "        'inputFiles': [\n",
    "          {\n",
    "            'id': 'XkpTse'\n",
    "          }\n",
    "        ]\n",
    "      }\n",
    "    ]\n",
    "  },\n",
    "  headers={'Content-Type': 'application/json',\n",
    "           'Authorization': f'Token {api_key}'} \n",
    ")"
   ]
  }
 ],
 "metadata": {
  "interpreter": {
   "hash": "d5a1370b0b5f34e9a709249c5b9f419593b930d9e51d42667758d8bffb979fee"
  },
  "kernelspec": {
   "display_name": "Python 3.8.12 64-bit ('xx': conda)",
   "language": "python",
   "name": "python3"
  },
  "language_info": {
   "codemirror_mode": {
    "name": "ipython",
    "version": 3
   },
   "file_extension": ".py",
   "mimetype": "text/x-python",
   "name": "python",
   "nbconvert_exporter": "python",
   "pygments_lexer": "ipython3",
   "version": "3.8.12"
  },
  "orig_nbformat": 4
 },
 "nbformat": 4,
 "nbformat_minor": 2
}
